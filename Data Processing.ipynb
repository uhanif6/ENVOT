{
 "cells": [
  {
   "cell_type": "code",
   "execution_count": 7,
   "id": "2ecdf2f9",
   "metadata": {},
   "outputs": [
    {
     "name": "stdout",
     "output_type": "stream",
     "text": [
      "Processed data saved to processed_weather_data.csv\n"
     ]
    }
   ],
   "source": [
    "import pandas as pd\n",
    "from sklearn.preprocessing import StandardScaler\n",
    "from sklearn.impute import SimpleImputer\n",
    "import numpy as np\n",
    "\n",
    "# Load the dataset\n",
    "file_path = 'C:/Users/e0974166/Downloads/DAILYDATA_S24_202101.csv'  # Replace with the path to your CSV file\n",
    "data = pd.read_csv(file_path)\n",
    "\n",
    "# Dropping non-relevant columns\n",
    "data_ml = data.drop(['Station', 'Year', 'Month', 'Day'], axis=1)\n",
    "\n",
    "# Convert non-numeric values ('-') to NaN\n",
    "data_ml = data_ml.replace('-', np.nan).apply(pd.to_numeric, errors='coerce')\n",
    "\n",
    "# Checking for missing values\n",
    "missing_values = data_ml.isnull().sum()\n",
    "\n",
    "# Handling missing values (if any)\n",
    "# For example, you might fill missing values with the mean:\n",
    "imputer = SimpleImputer(missing_values=np.nan, strategy='mean')\n",
    "data_ml_imputed = imputer.fit_transform(data_ml)\n",
    "data_ml = pd.DataFrame(data_ml_imputed, columns=data_ml.columns)\n",
    "\n",
    "# Scaling the data\n",
    "scaler = StandardScaler()\n",
    "scaled_data = scaler.fit_transform(data_ml)\n",
    "\n",
    "# Convert the scaled data back to a dataframe\n",
    "scaled_data_df = pd.DataFrame(scaled_data, columns=data_ml.columns)\n",
    "\n",
    "# Generating 1000 observations by resampling with replacement (bootstrapping)\n",
    "bootstrapped_data = scaled_data_df.sample(n=1000, replace=True, random_state=1)\n",
    "\n",
    "# Save the preprocessed data to a CSV file\n",
    "processed_data_file_path = 'processed_weather_data.csv'  # The name of the output file\n",
    "bootstrapped_data.to_csv(processed_data_file_path, index=False)\n",
    "\n",
    "print(f\"Processed data saved to {processed_data_file_path}\")\n",
    "\n"
   ]
  },
  {
   "cell_type": "code",
   "execution_count": null,
   "id": "e8b7a85a",
   "metadata": {},
   "outputs": [],
   "source": []
  }
 ],
 "metadata": {
  "kernelspec": {
   "display_name": "Python 3 (ipykernel)",
   "language": "python",
   "name": "python3"
  },
  "language_info": {
   "codemirror_mode": {
    "name": "ipython",
    "version": 3
   },
   "file_extension": ".py",
   "mimetype": "text/x-python",
   "name": "python",
   "nbconvert_exporter": "python",
   "pygments_lexer": "ipython3",
   "version": "3.9.13"
  }
 },
 "nbformat": 4,
 "nbformat_minor": 5
}
